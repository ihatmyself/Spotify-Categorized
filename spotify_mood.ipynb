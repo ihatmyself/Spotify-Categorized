{
 "cells": [
  {
   "cell_type": "markdown",
   "metadata": {},
   "source": [
    "Python version: 3.10.13"
   ]
  },
  {
   "cell_type": "code",
   "execution_count": 2,
   "metadata": {},
   "outputs": [],
   "source": [
    "import pandas as pd\n",
    "\n",
    "\n",
    "\n",
    "df1 = pd.read_json(\"/Users/gm/Desktop/Spotify/MyData 2/Streaming_History_Audio_2016-2018_0.json\") # Load the JSON File into a dataframe\n",
    "df2 = pd.read_json(\"/Users/gm/Desktop/Spotify/MyData 2/Streaming_History_Audio_2018-2019_1.json\")\n",
    "df3 = pd.read_json(\"/Users/gm/Desktop/Spotify/MyData 2/Streaming_History_Audio_2019-2021_2.json\")\n",
    "df4 = pd.read_json(\"/Users/gm/Desktop/Spotify/MyData 2/Streaming_History_Audio_2021-2022_3.json\")\n",
    "df5 = pd.read_json(\"/Users/gm/Desktop/Spotify/MyData 2/Streaming_History_Audio_2022-2023_4.json\")\n",
    "df6 = pd.read_json(\"/Users/gm/Desktop/Spotify/MyData 2/Streaming_History_Audio_2023_5.json\")\n",
    "\n",
    "spotify_stream_df = pd.concat([df1,df2,df3,df4,df5,df6], ignore_index=True) # To concatenate the two dataframes"
   ]
  }
 ],
 "metadata": {
  "kernelspec": {
   "display_name": "Python 3",
   "language": "python",
   "name": "python3"
  },
  "language_info": {
   "codemirror_mode": {
    "name": "ipython",
    "version": 3
   },
   "file_extension": ".py",
   "mimetype": "text/x-python",
   "name": "python",
   "nbconvert_exporter": "python",
   "pygments_lexer": "ipython3",
   "version": "3.11.5"
  }
 },
 "nbformat": 4,
 "nbformat_minor": 2
}
