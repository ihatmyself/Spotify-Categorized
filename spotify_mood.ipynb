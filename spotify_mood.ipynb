{
 "cells": [
  {
   "cell_type": "markdown",
   "metadata": {},
   "source": [
    "Python version: 3.10.13"
   ]
  },
  {
   "cell_type": "code",
   "execution_count": 1,
   "metadata": {},
   "outputs": [
    {
     "name": "stderr",
     "output_type": "stream",
     "text": [
      "/var/folders/hx/4w9b78g15zj3qxgwfj_1p8y00000gn/T/ipykernel_50480/3634892992.py:1: DeprecationWarning: \n",
      "Pyarrow will become a required dependency of pandas in the next major release of pandas (pandas 3.0),\n",
      "(to allow more performant data types, such as the Arrow string type, and better interoperability with other libraries)\n",
      "but was not found to be installed on your system.\n",
      "If this would cause problems for you,\n",
      "please provide us feedback at https://github.com/pandas-dev/pandas/issues/54466\n",
      "        \n",
      "  import pandas as pd\n"
     ]
    },
    {
     "data": {
      "text/plain": [
       "(89593, 21)"
      ]
     },
     "execution_count": 1,
     "metadata": {},
     "output_type": "execute_result"
    }
   ],
   "source": [
    "import pandas as pd\n",
    "import seaborn as sns\n",
    "import numpy as np\n",
    "from matplotlib import style\n",
    "from sklearn.model_selection import cross_val_predict\n",
    "from sklearn import metrics\n",
    "from sklearn import svm\n",
    "%matplotlib inline\n",
    "import matplotlib.pyplot as plt\n",
    "import os\n",
    "\n",
    "os.chdir(\"/Users/gm/Documents/Spotify-Categorized/MyData 2\")\n",
    "\n",
    "df1 = pd.read_json(\"/Users/gm/Desktop/Spotify/MyData 2/Streaming_History_Audio_2016-2018_0.json\") # Load the JSON File into a dataframe\n",
    "df2 = pd.read_json(\"/Users/gm/Desktop/Spotify/MyData 2/Streaming_History_Audio_2018-2019_1.json\")\n",
    "df3 = pd.read_json(\"/Users/gm/Desktop/Spotify/MyData 2/Streaming_History_Audio_2019-2021_2.json\")\n",
    "df4 = pd.read_json(\"/Users/gm/Desktop/Spotify/MyData 2/Streaming_History_Audio_2021-2022_3.json\")\n",
    "df5 = pd.read_json(\"/Users/gm/Desktop/Spotify/MyData 2/Streaming_History_Audio_2022-2023_4.json\")\n",
    "df6 = pd.read_json(\"/Users/gm/Desktop/Spotify/MyData 2/Streaming_History_Audio_2023_5.json\")\n",
    "\n",
    "spotify_stream_df = pd.concat([df1,df2,df3,df4,df5,df6], ignore_index=True) # To concatenate the two dataframes\n",
    "\n",
    "spotify_stream_df.shape"
   ]
  }
 ],
 "metadata": {
  "kernelspec": {
   "display_name": "Python 3",
   "language": "python",
   "name": "python3"
  },
  "language_info": {
   "codemirror_mode": {
    "name": "ipython",
    "version": 3
   },
   "file_extension": ".py",
   "mimetype": "text/x-python",
   "name": "python",
   "nbconvert_exporter": "python",
   "pygments_lexer": "ipython3",
   "version": "3.11.5"
  }
 },
 "nbformat": 4,
 "nbformat_minor": 2
}
